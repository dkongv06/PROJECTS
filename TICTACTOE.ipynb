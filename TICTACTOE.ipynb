{
 "cells": [
  {
   "cell_type": "code",
   "execution_count": 1,
   "metadata": {},
   "outputs": [],
   "source": [
    "from IPython.display import clear_output\n",
    "\n",
    "def display_board(board):\n",
    "    \n",
    "    clear_output()\n",
    "    \n",
    "    print (board[7]+\" | \" +board[8]+\" | \" + board[9])\n",
    "    print (\"---------\")\n",
    "    print (board[4]+\" | \" +board[5]+\" | \" + board[6])\n",
    "    print (\"---------\")\n",
    "    print (board[1]+\" | \" +board[2]+\" | \" + board[3])"
   ]
  },
  {
   "cell_type": "code",
   "execution_count": 2,
   "metadata": {},
   "outputs": [
    {
     "name": "stdout",
     "output_type": "stream",
     "text": [
      "X | O | X\n",
      "---------\n",
      "O | X | O\n",
      "---------\n",
      "X | O | X\n"
     ]
    }
   ],
   "source": [
    "test_board = [\"#\",\"X\",\"O\",\"X\",\"O\",\"X\",\"O\",\"X\",\"O\",\"X\"]\n",
    "display_board(test_board)"
   ]
  },
  {
   "cell_type": "code",
   "execution_count": 3,
   "metadata": {},
   "outputs": [],
   "source": [
    "def player_input():\n",
    "    \n",
    "    '''\n",
    "    OUTPUT = (Pkayer1 marker, Player2 marker)\n",
    "    '''\n",
    "    \n",
    "    \n",
    "    marker = \"\"\n",
    "    \n",
    "    #keep asking player 1 to choose X or O\n",
    "    \n",
    "    while marker != \"X\" and marker != \"O\":\n",
    "        marker = input(\"Player 1, choose X or O: \").upper()\n",
    "    \n",
    "    #assign player 2 the opposite marker\n",
    "    if marker == \"X\":\n",
    "        return (\"X\",\"O\")\n",
    "    else:\n",
    "        return (\"O\",\"X\")"
   ]
  },
  {
   "cell_type": "code",
   "execution_count": 4,
   "metadata": {},
   "outputs": [
    {
     "name": "stdout",
     "output_type": "stream",
     "text": [
      "Player 1, choose X or O: x\n"
     ]
    }
   ],
   "source": [
    "p1marker ,p2marker = player_input()"
   ]
  },
  {
   "cell_type": "code",
   "execution_count": 5,
   "metadata": {},
   "outputs": [
    {
     "data": {
      "text/plain": [
       "'O'"
      ]
     },
     "execution_count": 5,
     "metadata": {},
     "output_type": "execute_result"
    }
   ],
   "source": [
    "p2marker"
   ]
  },
  {
   "cell_type": "code",
   "execution_count": 6,
   "metadata": {},
   "outputs": [],
   "source": [
    "def place_marker(board, marker, position):\n",
    "    board[position] = marker"
   ]
  },
  {
   "cell_type": "code",
   "execution_count": 7,
   "metadata": {},
   "outputs": [
    {
     "name": "stdout",
     "output_type": "stream",
     "text": [
      "X | $ | X\n",
      "---------\n",
      "O | X | O\n",
      "---------\n",
      "X | O | X\n"
     ]
    }
   ],
   "source": [
    "place_marker(test_board, \"$\",8)\n",
    "display_board(test_board)"
   ]
  },
  {
   "cell_type": "code",
   "execution_count": 8,
   "metadata": {},
   "outputs": [],
   "source": [
    "def win_check(board,mark):\n",
    "    #win tic tac toe?\n",
    "    \n",
    "    #all rows, columns, or diagonals have same marker?\n",
    "    return ((board[7] == mark and board[8] == mark and board[9] == mark) or\n",
    "    (board[4] == mark and board[5] == mark and board[6] == mark) or\n",
    "    (board[1] == mark and board[2] == mark and board[3] == mark) or\n",
    "    (board[7] == mark and board[4] == mark and board[1] == mark) or\n",
    "    (board[8] == mark and board[5] == mark and board[2] == mark) or\n",
    "    (board[9] == mark and board[6] == mark and board[3] == mark) or\n",
    "    (board[7] == mark and board[5] == mark and board[3] == mark) or\n",
    "    (board[9] == mark and board[5] == mark and board[1] == mark))"
   ]
  },
  {
   "cell_type": "code",
   "execution_count": 9,
   "metadata": {},
   "outputs": [
    {
     "name": "stdout",
     "output_type": "stream",
     "text": [
      "X | $ | X\n",
      "---------\n",
      "O | X | O\n",
      "---------\n",
      "X | O | X\n"
     ]
    },
    {
     "data": {
      "text/plain": [
       "True"
      ]
     },
     "execution_count": 9,
     "metadata": {},
     "output_type": "execute_result"
    }
   ],
   "source": [
    "display_board(test_board)\n",
    "win_check(test_board, \"X\")"
   ]
  },
  {
   "cell_type": "code",
   "execution_count": 10,
   "metadata": {},
   "outputs": [],
   "source": [
    "import random\n",
    "\n",
    "def choose_first():\n",
    "    \n",
    "    flip = random.randint(0,1)\n",
    "    \n",
    "    if flip == 0:\n",
    "        return \"Player 1\"\n",
    "    else:\n",
    "        return \"Player 2\""
   ]
  },
  {
   "cell_type": "code",
   "execution_count": 11,
   "metadata": {},
   "outputs": [],
   "source": [
    "def space_check(board,position):\n",
    "    \n",
    "    return board[position] == \" \""
   ]
  },
  {
   "cell_type": "code",
   "execution_count": 12,
   "metadata": {},
   "outputs": [],
   "source": [
    "def full_board(board):\n",
    "    \n",
    "    for i in range(1,10):\n",
    "        if space_check(board,i):\n",
    "            return False\n",
    "    \n",
    "    #board is full\n",
    "    return True"
   ]
  },
  {
   "cell_type": "code",
   "execution_count": 13,
   "metadata": {},
   "outputs": [],
   "source": [
    "def player_choice(board):\n",
    "    \n",
    "    position = 0\n",
    "    \n",
    "    while position not in [1,2,3,4,5,6,7,8,9] or not space_check(board,position):\n",
    "        position = int(input(\"Choose a position: (1-9) \"))\n",
    "        \n",
    "    return position"
   ]
  },
  {
   "cell_type": "code",
   "execution_count": 14,
   "metadata": {},
   "outputs": [],
   "source": [
    "def replay():\n",
    "    \n",
    "    choice = input(\"Play again? Enter Yes or No\")\n",
    "    \n",
    "    return choice == \"Yes\""
   ]
  },
  {
   "cell_type": "markdown",
   "metadata": {},
   "source": [
    "Creating game with above functions"
   ]
  },
  {
   "cell_type": "code",
   "execution_count": null,
   "metadata": {},
   "outputs": [
    {
     "name": "stdout",
     "output_type": "stream",
     "text": [
      "  |   |  \n",
      "---------\n",
      "  |   |  \n",
      "---------\n",
      "X |   |  \n"
     ]
    }
   ],
   "source": [
    "#while loop to keep running the game\n",
    "print (\"Welcome to Tic Tac Toe\")\n",
    "\n",
    "while True:\n",
    "    #play game\n",
    "    \n",
    "    #set up board, who's first, player markers\n",
    "    theboard = [\" \"]*10\n",
    "    p1marker, p2marker = player_input()\n",
    "    \n",
    "    turn = choose_first()\n",
    "    print(turn + \" will go first\")\n",
    "    \n",
    "    play_game = input(\"Ready to play? y or n?\")\n",
    "    \n",
    "    if play_game == \"y\":\n",
    "        game_on = True\n",
    "    else:\n",
    "        game_on = False\n",
    "    \n",
    "    #gameplay\n",
    "    while game_on:\n",
    "        \n",
    "        #p1 turn\n",
    "        if turn == \"Player 1\":\n",
    "            \n",
    "            #show the board\n",
    "            display_board(theboard)\n",
    "            #choose a position\n",
    "            position = player_choice(theboard)\n",
    "            #place a marker\n",
    "            place_marker(theboard,p1marker,position)\n",
    "            #check if they won\n",
    "            if win_check(theboard,p1marker):\n",
    "                display_board(theboard)\n",
    "                print (\"Player 1 has won!\")\n",
    "                game_on = False\n",
    "            #check for tie\n",
    "            else:\n",
    "                if full_board(theboard):\n",
    "                    display_board(theboard)\n",
    "                    print (\"Tie game\")\n",
    "                    game_on = False\n",
    "                #no tie or win? next player turn\n",
    "                else:\n",
    "                    turn = \"Player 2\"\n",
    "                    \n",
    "        else:\n",
    "            \n",
    "            #show the board\n",
    "            display_board(theboard)\n",
    "            #choose a position\n",
    "            position = player_choice(theboard)\n",
    "            #place a marker\n",
    "            place_marker(theboard,p2marker,position)\n",
    "            #check if they won\n",
    "            if win_check(theboard,p2marker):\n",
    "                display_board(theboard)\n",
    "                print (\"Player 2 has won!\")\n",
    "                game_on = False\n",
    "            #check for tie\n",
    "            else:\n",
    "                if full_board(theboard):\n",
    "                    display_board(theboard)\n",
    "                    print (\"Tie game\")\n",
    "                    game_on = False\n",
    "                #no tie or win? next player turn\n",
    "                else:\n",
    "                    turn = \"Player 1\"\n",
    "    \n",
    "    if not replay():\n",
    "        break\n",
    "    #break out of while loop on replay()"
   ]
  },
  {
   "cell_type": "code",
   "execution_count": null,
   "metadata": {},
   "outputs": [],
   "source": []
  }
 ],
 "metadata": {
  "kernelspec": {
   "display_name": "Python 3",
   "language": "python",
   "name": "python3"
  },
  "language_info": {
   "codemirror_mode": {
    "name": "ipython",
    "version": 3
   },
   "file_extension": ".py",
   "mimetype": "text/x-python",
   "name": "python",
   "nbconvert_exporter": "python",
   "pygments_lexer": "ipython3",
   "version": "3.6.4"
  }
 },
 "nbformat": 4,
 "nbformat_minor": 2
}
